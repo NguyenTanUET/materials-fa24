{
 "cells": [
  {
   "cell_type": "code",
   "execution_count": 36,
   "id": "f75c3dca",
   "metadata": {
    "deletable": false,
    "editable": false
   },
   "outputs": [],
   "source": [
    "# Initialize Otter\n",
    "import otter\n",
    "grader = otter.Notebook(\"hw09.ipynb\")"
   ]
  },
  {
   "cell_type": "markdown",
   "id": "dfc1f0db",
   "metadata": {},
   "source": [
    "<img src=\"data8logo.png\" alt=\"Data 8 Logo\" style=\"width: 15%; float: right; padding: 1%; margin-right: 2%;\"/>\n",
    "\n",
    "# Homework 9: Sample Sizes and Confidence Intervals\n",
    "\n",
    "**Helpful Resource:**\n",
    "\n",
    "- [Python Reference](http://data8.org/fa24/reference/): Cheat sheet of helpful array & table methods used in Data 8!\n",
    "\n",
    "**Recommended Readings**: \n",
    "\n",
    "* [Estimation](https://inferentialthinking.com/chapters/13/Estimation.html)\n",
    "* [Why the Mean Matters](https://inferentialthinking.com/chapters/14/Why_the_Mean_Matters.html)"
   ]
  },
  {
   "attachments": {},
   "cell_type": "markdown",
   "id": "7e427b8a",
   "metadata": {},
   "source": [
    "Please complete this notebook by filling in the cells provided. **Before you begin, execute the cell below to setup the notebook by importing some helpful libraries.** Each time you start your server, you will need to execute this cell again.\n",
    "\n",
    "For all problems that you must write explanations and sentences for, you **must** provide your answer in the designated space. Moreover, throughout this homework and all future ones, **please be sure to not re-assign variables throughout the notebook!** For example, if you use `max_temperature` in your answer to one question, do not reassign it later on. Otherwise, you will fail tests that you thought you were passing previously!\n",
    "\n",
    "**Deadline:**\n",
    "\n",
    "This assignment is **due Wednesday, 11/6 at 5:00pm PT**. Submissions after this time will be accepted for 24 hours and will incur a 20% penalty. Any submissions later than this 24 hour period will not be accepted unless an extension has been granted as per the [policies](http://data8.org/fa24/policies/) page. Turn it in by Tuesday, 11/5 at 5:00pm PT for 5 extra credit points.\n",
    "\n",
    "<span style=\"color:red\">**Note: This homework has hidden tests on it. That means even though tests may say 100% passed, it doesn't mean your final grade will be 100%. We will be running more tests for correctness once everyone turns in the homework.**</span>\n",
    "\n",
    "Directly sharing answers is not okay, but discussing problems with the course staff or with other students is encouraged. Refer to the [policies](http://data8.org/fa24/policies/#learning-cooperatively) page to learn more about how to learn cooperatively.\n",
    "\n",
    "You should start early so that you have time to get help if you're stuck. Office hours are held Monday through Friday in [Warren Hall](https://www.berkeley.edu/map?warren) 101B. The office hours schedule appears [here](http://data8.org/fa24/schedule/)."
   ]
  },
  {
   "cell_type": "markdown",
   "id": "7a0fdae1",
   "metadata": {},
   "source": [
    "---\n",
    "\n",
    "The point breakdown for this assignment is given in the table below:\n",
    "| Category | Points |\n",
    "| --- | --- |\n",
    "| Autograder (Coding questions) | 64 |\n",
    "| Written | 36 |\n",
    "| **Total** | 100 |"
   ]
  },
  {
   "cell_type": "code",
   "execution_count": 37,
   "id": "a8b28345",
   "metadata": {},
   "outputs": [],
   "source": [
    "# Don't change this cell; just run it. \n",
    "\n",
    "import numpy as np\n",
    "from datascience import *\n",
    "\n",
    "# These lines do some fancy plotting magic.\n",
    "import matplotlib\n",
    "%matplotlib inline\n",
    "import matplotlib.pyplot as plt\n",
    "plt.style.use('fivethirtyeight')\n",
    "import warnings\n",
    "warnings.simplefilter('ignore', FutureWarning)"
   ]
  },
  {
   "attachments": {},
   "cell_type": "markdown",
   "id": "5f0de046",
   "metadata": {},
   "source": [
    "<hr style=\"border: 5px solid #003262;\" />\n",
    "<hr style=\"border: 1px solid #fdb515;\" />\n",
    "\n",
    "## 1. Bounding the Tail of a Distribution\n",
    "\n",
    "A community has an average age of 45 years with a standard deviation of 5 years. **We do not know how the ages are distributed.**\n",
    "\n",
    "In each part below, fill in the blank with a percent that makes the statement true **without further assumptions**, and **explain your answer**.\n",
    "\n",
    "*Note:* No credit will be given for loose bounds such as \"at least 0%\" or \"at most 100%\". Give the best answer that is possible with the information given.\n",
    "\n",
    "> ***Please review [Section 14.2](https://inferentialthinking.com/chapters/14/2/Variability.html) of the textbook before proceeding with this section. You will be able to understand and solve the problems more efficiently!***"
   ]
  },
  {
   "cell_type": "markdown",
   "id": "f2d80e62",
   "metadata": {},
   "source": [
    "<!-- BEGIN QUESTION -->\n",
    "\n",
    "<hr style=\"border: 1px solid #fdb515;\" />\n",
    "\n",
    "**Question 1.1.** At least _______% of the people are between 25 and 65 years old. Explain your answer! **(6 Points)**"
   ]
  },
  {
   "cell_type": "markdown",
   "id": "5085148b",
   "metadata": {},
   "source": [
    "Đáp án: 93.75%\n",
    "Giải thích: Sử dụng bất đẳng thức Chebyshev với \n",
    "k=20/5=4.\n",
    "Tỷ lệ tối thiểu trong khoảng  μ±4σ là 1 - 1/(k^2) = 1 - 1/16 = 93.75\n"
   ]
  },
  {
   "cell_type": "markdown",
   "id": "90b18996",
   "metadata": {},
   "source": [
    "<!-- END QUESTION -->\n",
    "\n",
    "<!-- BEGIN QUESTION -->\n",
    "\n",
    "<hr style=\"border: 1px solid #fdb515;\" />\n",
    "\n",
    "**Question 1.2.** At most _______% of the people have ages that are not in the range 25 years to 65 years. Explain your answer! **(6 Points)**"
   ]
  },
  {
   "cell_type": "markdown",
   "id": "ddf3dda8",
   "metadata": {},
   "source": [
    "Đáp án: 6.25%\n",
    "Giải thích: Đây là phần bù của câu 1.1. Tỷ lệ ngoài khoảng 25-65 là 100%−93.75% = 6.25%"
   ]
  },
  {
   "cell_type": "markdown",
   "id": "42881d35",
   "metadata": {},
   "source": [
    "<!-- END QUESTION -->\n",
    "\n",
    "<!-- BEGIN QUESTION -->\n",
    "\n",
    "<hr style=\"border: 1px solid #fdb515;\" />\n",
    "\n",
    "**Question 1.3.** At most _______% of the people are more than 65 years old. Explain your answer! **(6 Points)**\n",
    "\n",
    "*Hint:* If you're stuck, try thinking about what the distribution may look like in this case.\n"
   ]
  },
  {
   "cell_type": "markdown",
   "id": "c78ef70a",
   "metadata": {},
   "source": [
    "Đáp án: 6.25%\n",
    "Giải thích: Chebyshev không phân biệt trái/phải. Tỷ lệ tối đa ngoài  μ+4σ là 1/(k^2) = 1/16 = 6.25%"
   ]
  },
  {
   "cell_type": "markdown",
   "id": "d9e4208b",
   "metadata": {},
   "source": [
    "<!-- END QUESTION -->\n",
    "\n",
    "<hr style=\"border: 5px solid #003262;\" />\n",
    "<hr style=\"border: 1px solid #fdb515;\" />\n",
    "\n",
    "## 2. Sample Size and Confidence Level\n",
    "\n",
    "A data science class at the large Data 8 University wants to estimate the percent of Facebook users among students at the school. To do this, they need to take a random sample of students. You can assume that their method of sampling is equivalent to drawing at random with replacement from students at the school.\n",
    "\n",
    "> ***Please review [Section 14.6](https://inferentialthinking.com/chapters/14/6/Choosing_a_Sample_Size.html#) of the textbook before proceeding with this section. There is a helpful formula that will help you solve the problems!***"
   ]
  },
  {
   "cell_type": "markdown",
   "id": "1bf7d5c5",
   "metadata": {},
   "source": [
    "<hr style=\"border: 1px solid #fdb515;\" />\n",
    "\n",
    "**Question 2.1.** Assign `smallest` to the smallest number of students they should sample to ensure that a **95%** confidence interval for the parameter has a width of no more than 6% from left end to right end. **(6 points)**\n",
    "\n",
    "*Hint:* How can our data be represented to show if a student in the sample is a Facebook user or not? Given this, what assumptions can we make for the SD of the population? [Section 14.6](https://inferentialthinking.com/chapters/14/6/Choosing_a_Sample_Size.html#) might be helpful!\n",
    "\n",
    "*Note:* While the true smallest sample size would have to be an integer, please leave your answer in decimal format for the sake of our tests.\n"
   ]
  },
  {
   "cell_type": "code",
   "execution_count": 72,
   "id": "bb674393",
   "metadata": {
    "tags": []
   },
   "outputs": [
    {
     "data": {
      "text/plain": [
       "1100"
      ]
     },
     "execution_count": 72,
     "metadata": {},
     "output_type": "execute_result"
    }
   ],
   "source": [
    "smallest = 1100\n",
    "smallest"
   ]
  },
  {
   "cell_type": "code",
   "execution_count": 43,
   "id": "fd9417ab",
   "metadata": {
    "deletable": false,
    "editable": false
   },
   "outputs": [
    {
     "data": {
      "text/html": [
       "<p><strong><pre style='display: inline;'>q2_1</pre></strong> passed! 💯</p>"
      ],
      "text/plain": [
       "q2_1 results: All test cases passed!"
      ]
     },
     "execution_count": 43,
     "metadata": {},
     "output_type": "execute_result"
    }
   ],
   "source": [
    "grader.check(\"q2_1\")"
   ]
  },
  {
   "cell_type": "markdown",
   "id": "aab4d1c6",
   "metadata": {},
   "source": [
    "<!-- BEGIN QUESTION -->\n",
    "\n",
    "<hr style=\"border: 1px solid #fdb515;\" />\n",
    "\n",
    "**Question 2.2.** Suppose the data science class decides to construct a 90% confidence interval instead of a 95% confidence interval, but they still require that the width of the interval is no more than 6% from left end to right end. Will they need the same sample size as in 2.1? Pick the right answer and explain further without calculation. **(6 Points)**\n",
    "\n",
    "1. Yes, they must use the same sample size.\n",
    "2. No, a smaller sample size will work.\n",
    "3. No, they will need a bigger sample.\n"
   ]
  },
  {
   "cell_type": "markdown",
   "id": "46bb5814",
   "metadata": {},
   "source": [
    "2"
   ]
  },
  {
   "cell_type": "markdown",
   "id": "1710911c",
   "metadata": {},
   "source": [
    "<!-- END QUESTION -->\n",
    "\n",
    "<hr style=\"border: 1px solid #fdb515;\" />\n",
    "\n",
    "**Question 2.3.** The professor tells the class that a 90% confidence interval for the parameter is constructed exactly like a 95% confidence interval, except that you have to go only **1.65 SDs** on either side of the estimate (±1.65) instead of **2 SDs** on either side (±2). Assign `smallest_num` to the smallest number of students they should sample to ensure that a **90%** confidence interval for the parameter has a **width of no more than 6%** from left end to right end. **(6 points)**\n",
    "\n",
    "*Note:* While the true smallest sample size would have to be an integer, please leave your answer in decimal format for the sake of our tests.\n"
   ]
  },
  {
   "cell_type": "code",
   "execution_count": 44,
   "id": "f5e04d9b",
   "metadata": {
    "tags": []
   },
   "outputs": [
    {
     "data": {
      "text/plain": [
       "750.25"
      ]
     },
     "execution_count": 44,
     "metadata": {},
     "output_type": "execute_result"
    }
   ],
   "source": [
    "smallest_num = 750.25\n",
    "smallest_num"
   ]
  },
  {
   "cell_type": "code",
   "execution_count": 45,
   "id": "608862e0",
   "metadata": {
    "deletable": false,
    "editable": false
   },
   "outputs": [
    {
     "data": {
      "text/html": [
       "<p><strong><pre style='display: inline;'>q2_3</pre></strong> passed! 🙌</p>"
      ],
      "text/plain": [
       "q2_3 results: All test cases passed!"
      ]
     },
     "execution_count": 45,
     "metadata": {},
     "output_type": "execute_result"
    }
   ],
   "source": [
    "grader.check(\"q2_3\")"
   ]
  },
  {
   "cell_type": "markdown",
   "id": "57f28c24",
   "metadata": {},
   "source": [
    "For this next exercise, please consult [Section 14.3.4](https://inferentialthinking.com/chapters/14/3/SD_and_the_Normal_Curve.html#the-standard-normal-cdf) of the textbook for similar examples.\n",
    "\n",
    "Colin and Marissa are curious about how the professor came up with the value 1.65 in Question 2.3. The professor says he ran the following two code cells. The first one calls the `datascience` library function `plot_normal_cdf`, which displays the proportion that is at most the specified number of SDs above average under the normal curve plotted with standard units on the horizontal axis. You can find the documentation [here](http://data8.org/datascience/util.html#datascience.util.plot_normal_cdf).\n",
    "\n",
    "*Note:* The acronym `cdf` stands for `cumulative distribution function`. It measures the proportion to the left of a specified point under a probability histogram."
   ]
  },
  {
   "cell_type": "code",
   "execution_count": 46,
   "id": "f746614f",
   "metadata": {},
   "outputs": [
    {
     "data": {
      "image/png": "[encoded data removed]",
      "text/plain": [
       "<Figure size 600x400 with 1 Axes>"
      ]
     },
     "metadata": {},
     "output_type": "display_data"
    },
    {
     "data": {
      "image/png": "[encoded data removed]",
      "text/plain": [
       "<Figure size 600x400 with 1 Axes>"
      ]
     },
     "metadata": {},
     "output_type": "display_data"
    }
   ],
   "source": [
    "plot_normal_cdf(1.65)"
   ]
  },
  {
   "cell_type": "markdown",
   "id": "3dfd4919",
   "metadata": {},
   "source": [
    "To run the second cell, the professor had to first import a Python library for probability and statistics:"
   ]
  },
  {
   "cell_type": "code",
   "execution_count": 47,
   "id": "6d42af4d",
   "metadata": {},
   "outputs": [],
   "source": [
    "# Just run this cell\n",
    "from scipy import stats"
   ]
  },
  {
   "cell_type": "markdown",
   "id": "0b577dcb",
   "metadata": {},
   "source": [
    "Then she used the `norm.cdf` method in the library to find the gold proportion above."
   ]
  },
  {
   "cell_type": "code",
   "execution_count": 48,
   "id": "ea5ac88e",
   "metadata": {},
   "outputs": [
    {
     "data": {
      "text/plain": [
       "0.9505285319663519"
      ]
     },
     "execution_count": 48,
     "metadata": {},
     "output_type": "execute_result"
    }
   ],
   "source": [
    "# Just run this cell\n",
    "stats.norm.cdf(1.65)"
   ]
  },
  {
   "attachments": {},
   "cell_type": "markdown",
   "id": "ea8997ad",
   "metadata": {},
   "source": [
    "This means that roughly 95% of our data lies to the left of +1.65 SDs from the mean (the shaded area in yellow above)."
   ]
  },
  {
   "cell_type": "markdown",
   "id": "9e7c6fcf",
   "metadata": {},
   "source": [
    "*Note*: You do not need to understand how the `scipy` library or how to use the method yourself."
   ]
  },
  {
   "cell_type": "markdown",
   "id": "ef4b64a4",
   "metadata": {},
   "source": [
    "<!-- BEGIN QUESTION -->\n",
    "\n",
    "<hr style=\"border: 1px solid #fdb515;\" />\n",
    "\n",
    "**Question 2.4.** This shows that the percentage in a normal distribution that is at most 1.65 SDs above average is about **95%**. Explain why 1.65 is the right number of SDs to use when constructing a **90%** confidence interval. **(6 Points)**\n"
   ]
  },
  {
   "cell_type": "markdown",
   "id": "34ca89fd",
   "metadata": {},
   "source": [
    "Giải thích: Khoảng tin cậy 90% yêu cầu 5% mỗi đuôi. Giá trị z= 1.65 tương ứng với 90% diện tích giữa  μ ± 1.65σ.\n",
    "\n"
   ]
  },
  {
   "cell_type": "markdown",
   "id": "258c8ae9",
   "metadata": {},
   "source": [
    "<!-- END QUESTION -->\n",
    "\n"
   ]
  },
  {
   "cell_type": "code",
   "execution_count": 49,
   "id": "3b0243bb",
   "metadata": {},
   "outputs": [
    {
     "data": {
      "text/plain": [
       "0.99009692444083575"
      ]
     },
     "execution_count": 49,
     "metadata": {},
     "output_type": "execute_result"
    }
   ],
   "source": [
    "# Just run this cell, do not change it.\n",
    "stats.norm.cdf(2.33)"
   ]
  },
  {
   "cell_type": "markdown",
   "id": "8240c7a4",
   "metadata": {},
   "source": [
    "<hr style=\"border: 1px solid #fdb515;\" />\n",
    "\n",
    "**Question 2.5.** The cell above shows that the proportion that is at most 2.33 SDs above average in a normal distribution is 99%. Assign `option` to the right option to fill in the blank: **(6 points)**\n",
    "\n",
    "If you start at the estimate and go 2.33 SDs on either side, then you will get a _______% confidence interval for the parameter.\n",
    "\n",
    "1. 99.5\n",
    "2. 99\n",
    "3. 98.5\n",
    "4. 98\n",
    "\n",
    "_Note:_ `option` should be assigned to one of `1`, `2`, `3`, or `4` depending on which answer is correct. \n",
    "\n"
   ]
  },
  {
   "cell_type": "code",
   "execution_count": 50,
   "id": "34059995",
   "metadata": {
    "tags": []
   },
   "outputs": [
    {
     "data": {
      "text/plain": [
       "4"
      ]
     },
     "execution_count": 50,
     "metadata": {},
     "output_type": "execute_result"
    }
   ],
   "source": [
    "option = 4\n",
    "option"
   ]
  },
  {
   "cell_type": "code",
   "execution_count": 51,
   "id": "3d67e595",
   "metadata": {
    "deletable": false,
    "editable": false
   },
   "outputs": [
    {
     "data": {
      "text/html": [
       "<p><strong><pre style='display: inline;'>q2_5</pre></strong> passed! 🙌</p>"
      ],
      "text/plain": [
       "q2_5 results: All test cases passed!"
      ]
     },
     "execution_count": 51,
     "metadata": {},
     "output_type": "execute_result"
    }
   ],
   "source": [
    "grader.check(\"q2_5\")"
   ]
  },
  {
   "cell_type": "markdown",
   "id": "cbd280dc",
   "metadata": {},
   "source": [
    "<hr style=\"border: 5px solid #003262;\" />\n",
    "<hr style=\"border: 1px solid #fdb515;\" />\n",
    "\n",
    "## 3. Polling and the Normal Distribution"
   ]
  },
  {
   "attachments": {},
   "cell_type": "markdown",
   "id": "989a9e0f",
   "metadata": {},
   "source": [
    "Ella is a statistical consultant, and she works for a group that supports Proposition 68 (which would mandate labeling of all horizontal and vertical axes, unrelated to any real California proposition) called Yes on 68.  They want to know how many Californians will vote for the proposition.\n",
    "\n",
    "Ella polls a random sample of all California voters, and she finds that 210 of the 400 sampled voters will vote in favor of the proposition. We have provided a table for you below which has 3 columns: the first two columns are identical to `sample`. The third column contains the proportion of total voters that chose each option."
   ]
  },
  {
   "cell_type": "code",
   "execution_count": 52,
   "id": "044682a1",
   "metadata": {
    "ExecuteTime": {
     "end_time": "2018-03-20T04:34:23.388186Z",
     "start_time": "2018-03-20T04:34:23.372185Z"
    },
    "deletable": false,
    "manual_problem_id": "sample_with_proportions"
   },
   "outputs": [
    {
     "data": {
      "text/html": [
       "<table border=\"1\" class=\"dataframe\">\n",
       "    <thead>\n",
       "        <tr>\n",
       "            <th>Vote</th> <th>Count</th> <th>Proportion</th>\n",
       "        </tr>\n",
       "    </thead>\n",
       "    <tbody>\n",
       "        <tr>\n",
       "            <td>Yes </td> <td>210  </td> <td>0.525     </td>\n",
       "        </tr>\n",
       "        <tr>\n",
       "            <td>No  </td> <td>190  </td> <td>0.475     </td>\n",
       "        </tr>\n",
       "    </tbody>\n",
       "</table>"
      ],
      "text/plain": [
       "Vote | Count | Proportion\n",
       "Yes  | 210   | 0.525\n",
       "No   | 190   | 0.475"
      ]
     },
     "execution_count": 52,
     "metadata": {},
     "output_type": "execute_result"
    }
   ],
   "source": [
    "sample = Table().with_columns(\n",
    "    \"Vote\",  make_array(\"Yes\", \"No\"),\n",
    "    \"Count\", make_array(210,   190))\n",
    "\n",
    "sample_size = sum(sample.column(\"Count\"))\n",
    "sample_with_proportions = sample.with_column(\"Proportion\", sample.column(\"Count\") / sample_size)\n",
    "sample_with_proportions"
   ]
  },
  {
   "cell_type": "markdown",
   "id": "576ac3da",
   "metadata": {},
   "source": [
    "<hr style=\"border: 1px solid #fdb515;\" />\n",
    "\n",
    "**Question 3.1.** Ella wants to use 10,000 bootstrap resamples to compute a confidence interval for the proportion of all California voters who will vote Yes.  \n",
    "\n",
    "Fill in the next cell to simulate an empirical distribution of Yes proportions. Use bootstrap resampling to simulate 10,000 election outcomes, and assign `resample_yes_proportions` to contain the Yes proportion of each bootstrap resample. Then, visualize `resample_yes_proportions` with a histogram. **You should see a bell shaped histogram centered near the proportion of Yes in the original sample.** **(6 points)**\n",
    "\n",
    "*Hint:* `sample_proportions` may be useful here!\n"
   ]
  },
  {
   "cell_type": "code",
   "execution_count": 53,
   "id": "bb323515",
   "metadata": {
    "ExecuteTime": {
     "end_time": "2018-03-20T04:35:22.190065Z",
     "start_time": "2018-03-20T04:35:21.777769Z"
    },
    "deletable": false,
    "manual_problem_id": "resample_yes_proportions",
    "tags": []
   },
   "outputs": [],
   "source": [
    "resample_yes_proportions = make_array()\n",
    "for i in np.arange(10000):\n",
    "    resample = sample_proportions(400, sample_with_proportions.column(\"Proportion\"))\n",
    "    resample_yes_proportions = np.append(resample_yes_proportions, resample[0])\n",
    "Table().with_column(\"Resample Yes proportion\", resample_yes_proportions).hist(bins=np.arange(.2, .8, .01))"
   ]
  },
  {
   "cell_type": "code",
   "execution_count": 54,
   "id": "6c32f925",
   "metadata": {
    "deletable": false,
    "editable": false
   },
   "outputs": [
    {
     "data": {
      "text/html": [
       "<p><strong><pre style='display: inline;'>q3_1</pre></strong> passed! 🙌</p>"
      ],
      "text/plain": [
       "q3_1 results: All test cases passed!"
      ]
     },
     "execution_count": 54,
     "metadata": {},
     "output_type": "execute_result"
    }
   ],
   "source": [
    "grader.check(\"q3_1\")"
   ]
  },
  {
   "cell_type": "markdown",
   "id": "ff42038a",
   "metadata": {},
   "source": [
    "<!-- BEGIN QUESTION -->\n",
    "\n",
    "<hr style=\"border: 1px solid #fdb515;\" />\n",
    "\n",
    "**Question 3.2.** Why does the Central Limit Theorem (CLT) apply in this situation, and how does it explain the distribution we see above? We recommend reviewing [14.4](https://inferentialthinking.com/chapters/14/4/Central_Limit_Theorem.html) for a refresher on CLT. **(6 points)**\n"
   ]
  },
  {
   "cell_type": "markdown",
   "id": "6300fbc2",
   "metadata": {},
   "source": [
    "Định lý Giới hạn Trung tâm (CLT) áp dụng vì:\n",
    "\n",
    "Kích thước mẫu đủ lớn: Mẫu có 400 sinh viên, đủ lớn để trung bình mẫu (tỷ lệ Yes) xấp xỉ phân phối chuẩn, ngay cả khi dân số không chuẩn.\n",
    "Lấy mẫu ngẫu nhiên: Mẫu được lấy ngẫu nhiên với thay thế, đảm bảo tính độc lập."
   ]
  },
  {
   "cell_type": "markdown",
   "id": "a4ccce0c",
   "metadata": {},
   "source": [
    "<!-- END QUESTION -->\n",
    "\n",
    "<hr style=\"border: 1px solid #fdb515;\" />\n",
    "\n",
    "In a population whose members are represented as either a 0 or 1, there is a simple formula for the **standard deviation of that population**:\n",
    "\n",
    "$$\\text{standard deviation of population} = \\sqrt{(\\text{proportion of 0s}) \\times (\\text{proportion of 1s})}$$\n",
    "\n",
    "(Figuring out this formula, starting from the definition of the standard deviation, is an fun exercise for those who enjoy algebra.)"
   ]
  },
  {
   "cell_type": "markdown",
   "id": "65831e24",
   "metadata": {},
   "source": [
    "**Question 3.3.** Using only the Central Limit Theorem and the numbers of Yes and No voters in our sample of 400, *algebraically* compute the predicted standard deviation of the `resample_yes_proportions` array. Assign this number to `approximate_sd`. **Do not access the data in `resample_yes_proportions` in any way.** **(6 points)**\n",
    "\n",
    "Remember that the standard deviation of the sample means can be computed from the population SD and the size of the sample (the formula above might be helpful). If we do not know the population SD, we can use the sample SD as a reasonable approximation in its place. \n",
    "\n",
    "_Note:_ Section [14.5.1](https://inferentialthinking.com/chapters/14/5/Variability_of_the_Sample_Mean.html#the-sd-of-all-the-sample-means) of the textbook may be helpful.\n"
   ]
  },
  {
   "cell_type": "code",
   "execution_count": 55,
   "id": "6e5056bc",
   "metadata": {
    "ExecuteTime": {
     "end_time": "2018-03-20T04:35:33.660846Z",
     "start_time": "2018-03-20T04:35:33.652810Z"
    },
    "deletable": false,
    "manual_problem_id": "approximate_sd",
    "tags": []
   },
   "outputs": [
    {
     "data": {
      "text/plain": [
       "0.024968730444297725"
      ]
     },
     "execution_count": 55,
     "metadata": {},
     "output_type": "execute_result"
    }
   ],
   "source": [
    "approx_pop_sd = np.sqrt(0.525 * 0.475)\n",
    "approximate_sd = approx_pop_sd / np.sqrt(400)\n",
    "approximate_sd"
   ]
  },
  {
   "cell_type": "code",
   "execution_count": 56,
   "id": "aa325f13",
   "metadata": {
    "deletable": false,
    "editable": false
   },
   "outputs": [
    {
     "data": {
      "text/html": [
       "<p><strong><pre style='display: inline;'>q3_3</pre></strong> passed! 🚀</p>"
      ],
      "text/plain": [
       "q3_3 results: All test cases passed!"
      ]
     },
     "execution_count": 56,
     "metadata": {},
     "output_type": "execute_result"
    }
   ],
   "source": [
    "grader.check(\"q3_3\")"
   ]
  },
  {
   "cell_type": "markdown",
   "id": "e6c80001",
   "metadata": {},
   "source": [
    "**Question 3.4.** Compute the standard deviation of the array `resample_yes_proportions`, which will act as an approximation to the true SD of the possible sample proportions. This will help verify whether your answer to question 3.3 is approximately correct. **(6 points)**\n"
   ]
  },
  {
   "cell_type": "code",
   "execution_count": 57,
   "id": "a4009a83",
   "metadata": {
    "ExecuteTime": {
     "end_time": "2018-03-20T04:35:34.753988Z",
     "start_time": "2018-03-20T04:35:34.745953Z"
    },
    "deletable": false,
    "manual_problem_id": "exact_sd",
    "tags": []
   },
   "outputs": [
    {
     "data": {
      "text/plain": [
       "0.024802273684835837"
      ]
     },
     "execution_count": 57,
     "metadata": {},
     "output_type": "execute_result"
    }
   ],
   "source": [
    "exact_sd = np.std(resample_yes_proportions)\n",
    "exact_sd"
   ]
  },
  {
   "cell_type": "code",
   "execution_count": 58,
   "id": "5bfe7bb7",
   "metadata": {
    "deletable": false,
    "editable": false
   },
   "outputs": [
    {
     "data": {
      "text/html": [
       "<p><strong><pre style='display: inline;'>q3_4</pre></strong> passed! 🚀</p>"
      ],
      "text/plain": [
       "q3_4 results: All test cases passed!"
      ]
     },
     "execution_count": 58,
     "metadata": {},
     "output_type": "execute_result"
    }
   ],
   "source": [
    "grader.check(\"q3_4\")"
   ]
  },
  {
   "cell_type": "markdown",
   "id": "d4b54721",
   "metadata": {},
   "source": [
    "<hr style=\"border: 1px solid #fdb515;\" />\n",
    "\n",
    "**Question 3.5.** **Again, without accessing `resample_yes_proportions` in any way**, compute an approximate 95% confidence interval for the proportion of Yes voters in California. **(6 points)**\n",
    "\n",
    "The cell below draws your interval as a red bar below the histogram of `resample_yes_proportions`; use that to verify that your answer looks right.\n",
    "\n",
    "*Hint:* How many SDs corresponds to 95% of the distribution promised by the CLT? Recall the discussion in the textbook [here](https://inferentialthinking.com/chapters/14/3/SD_and_the_Normal_Curve.html).\n",
    "\n",
    "*Hint:* The `approximate_sd` variable you previously defined may be helpful!\n"
   ]
  },
  {
   "cell_type": "code",
   "execution_count": 59,
   "id": "d7beb2d5",
   "metadata": {
    "ExecuteTime": {
     "end_time": "2018-03-20T04:35:42.572582Z",
     "start_time": "2018-03-20T04:35:42.560545Z"
    },
    "deletable": false,
    "manual_problem_id": "ci_without_data",
    "tags": []
   },
   "outputs": [
    {
     "name": "stdout",
     "output_type": "stream",
     "text": [
      "lower: 0.476061288329 upper: 0.573938711671\n"
     ]
    }
   ],
   "source": [
    "lower_limit = 0.525 - 1.96 * approximate_sd\n",
    "upper_limit = 0.525 + 1.96 * approximate_sd\n",
    "print('lower:', lower_limit, 'upper:', upper_limit)"
   ]
  },
  {
   "cell_type": "code",
   "execution_count": 60,
   "id": "3b6bfbad",
   "metadata": {
    "deletable": false,
    "editable": false
   },
   "outputs": [
    {
     "data": {
      "text/html": [
       "<p><strong><pre style='display: inline;'>q3_5</pre></strong> passed! 🌟</p>"
      ],
      "text/plain": [
       "q3_5 results: All test cases passed!"
      ]
     },
     "execution_count": 60,
     "metadata": {},
     "output_type": "execute_result"
    }
   ],
   "source": [
    "grader.check(\"q3_5\")"
   ]
  },
  {
   "cell_type": "code",
   "execution_count": 61,
   "id": "727525bc",
   "metadata": {
    "deletable": false,
    "editable": false
   },
   "outputs": [],
   "source": [
    "# Run this cell to plot your confidence interval.\n",
    "Table().with_column(\"Resample Yes proportion\", resample_yes_proportions).hist(bins=np.arange(.2, .8, .01))\n",
    "plt.plot(make_array(lower_limit, upper_limit), make_array(0, 0), c='r', lw=10);"
   ]
  },
  {
   "cell_type": "markdown",
   "id": "3ada9bdc",
   "metadata": {},
   "source": [
    "Your confidence interval should overlap the number 0.5.  That means we can't be very sure whether Proposition 68 is winning, even though the sample Yes proportion is a bit above 0.5.\n",
    "\n",
    "The Yes on 68 campaign really needs to know whether they're winning.  It's impossible to be absolutely sure without polling the whole population, but they'd be okay if the standard deviation of the sample mean were only 0.005.  They ask Ella to run a new poll with a sample size that's large enough to achieve that.  (Polling is expensive, so the sample also shouldn't be bigger than necessary.)\n",
    "\n",
    "Ella consults Chapter 14 of the textbook.  Instead of making the conservative assumption that the population standard deviation is 0.5 (coding Yes voters as 1 and No voters as 0), she decides to assume that it's equal to the standard deviation of the sample,\n",
    "\n",
    "$$\\sqrt{(\\text{Yes proportion in the sample}) \\times (\\text{No proportion in the sample})}.$$\n",
    "\n",
    "**Under that assumption, Ella decides that a sample of 9,975 would suffice.**"
   ]
  },
  {
   "cell_type": "markdown",
   "id": "279447a5",
   "metadata": {},
   "source": [
    "Does Ella's sample size achieve the desired standard deviation of sample means? What SD would you achieve with a smaller sample size? A higher sample size?\n",
    "\n",
    "<hr style=\"border: 1px solid #fdb515;\" />\n",
    "\n",
    "**Question 3.6.** To explore this, first compute the SD of sample means obtained by using Ella's sample size and assign it to `ella_sample_mean_sd`. **(6 points)**\n"
   ]
  },
  {
   "cell_type": "code",
   "execution_count": 62,
   "id": "c8dd2ce7",
   "metadata": {
    "ExecuteTime": {
     "end_time": "2018-03-20T04:35:45.882794Z",
     "start_time": "2018-03-20T04:35:45.870760Z"
    },
    "deletable": false,
    "manual_problem_id": "michelle_sample_mean_sd",
    "scrolled": true,
    "tags": []
   },
   "outputs": [
    {
     "name": "stdout",
     "output_type": "stream",
     "text": [
      "With Ella's sample size, you would predict a sample mean SD of 0.005000.\n"
     ]
    }
   ],
   "source": [
    "estimated_population_sd = np.sqrt(0.525 * 0.475)\n",
    "ella_sample_size = 9975\n",
    "ella_sample_mean_sd = estimated_population_sd / np.sqrt(ella_sample_size)\n",
    "print(\"With Ella's sample size, you would predict a sample mean SD of %f.\" % ella_sample_mean_sd)"
   ]
  },
  {
   "cell_type": "code",
   "execution_count": 63,
   "id": "41d09edd",
   "metadata": {
    "deletable": false,
    "editable": false
   },
   "outputs": [
    {
     "data": {
      "text/html": [
       "<p><strong><pre style='display: inline;'>q3_6</pre></strong> passed! 🌟</p>"
      ],
      "text/plain": [
       "q3_6 results: All test cases passed!"
      ]
     },
     "execution_count": 63,
     "metadata": {},
     "output_type": "execute_result"
    }
   ],
   "source": [
    "grader.check(\"q3_6\")"
   ]
  },
  {
   "cell_type": "markdown",
   "id": "20cd8d39",
   "metadata": {},
   "source": [
    "<hr style=\"border: 1px solid #fdb515;\" />\n",
    "\n",
    "**Question 3.7.** Next, compute the SD of sample means that you would get from a smaller sample size. Ideally, you should pick a number that is significantly smaller, but any sample size smaller than Ella's will do. **(5 points)**\n"
   ]
  },
  {
   "cell_type": "code",
   "execution_count": 64,
   "id": "1269ca82",
   "metadata": {
    "ExecuteTime": {
     "end_time": "2018-03-20T04:35:47.010246Z",
     "start_time": "2018-03-20T04:35:47.002724Z"
    },
    "deletable": false,
    "manual_problem_id": "smaller_sample_size",
    "tags": []
   },
   "outputs": [
    {
     "name": "stdout",
     "output_type": "stream",
     "text": [
      "With this smaller sample size, you would predict a sample mean SD of 0.007062\n"
     ]
    }
   ],
   "source": [
    "smaller_sample_size = 5000\n",
    "smaller_sample_mean_sd = estimated_population_sd / np.sqrt(smaller_sample_size)\n",
    "print(\"With this smaller sample size, you would predict a sample mean SD of %f\" % smaller_sample_mean_sd)"
   ]
  },
  {
   "cell_type": "code",
   "execution_count": 65,
   "id": "0f4c3bd9",
   "metadata": {
    "deletable": false,
    "editable": false
   },
   "outputs": [
    {
     "data": {
      "text/html": [
       "<p><strong><pre style='display: inline;'>q3_7</pre></strong> passed! 💯</p>"
      ],
      "text/plain": [
       "q3_7 results: All test cases passed!"
      ]
     },
     "execution_count": 65,
     "metadata": {},
     "output_type": "execute_result"
    }
   ],
   "source": [
    "grader.check(\"q3_7\")"
   ]
  },
  {
   "cell_type": "markdown",
   "id": "ec1b59d5",
   "metadata": {},
   "source": [
    "<hr style=\"border: 1px solid #fdb515;\" />\n",
    "\n",
    "**Question 3.8.** Finally, compute the SD of sample means that you would get from a larger sample size. Here, a number that is significantly larger would make any difference more obvious, but any sample size larger than Ella's will do. **(5 points)**"
   ]
  },
  {
   "cell_type": "code",
   "execution_count": 66,
   "id": "63b4e70e",
   "metadata": {
    "ExecuteTime": {
     "end_time": "2018-03-20T04:35:48.098047Z",
     "start_time": "2018-03-20T04:35:48.089414Z"
    },
    "deletable": false,
    "manual_problem_id": "larger_sample_mean_sd",
    "tags": []
   },
   "outputs": [
    {
     "name": "stdout",
     "output_type": "stream",
     "text": [
      "With this larger sample size, you would predict a sample mean SD of 0.004077\n"
     ]
    }
   ],
   "source": [
    "larger_sample_size = 15000\n",
    "larger_sample_mean_sd = estimated_population_sd / np.sqrt(larger_sample_size)\n",
    "print(\"With this larger sample size, you would predict a sample mean SD of %f\" % larger_sample_mean_sd)"
   ]
  },
  {
   "cell_type": "code",
   "execution_count": 67,
   "id": "35f978e5",
   "metadata": {
    "deletable": false,
    "editable": false
   },
   "outputs": [
    {
     "data": {
      "text/html": [
       "<p><strong><pre style='display: inline;'>q3_8</pre></strong> passed! 🌈</p>"
      ],
      "text/plain": [
       "q3_8 results: All test cases passed!"
      ]
     },
     "execution_count": 67,
     "metadata": {},
     "output_type": "execute_result"
    }
   ],
   "source": [
    "grader.check(\"q3_8\")"
   ]
  },
  {
   "cell_type": "markdown",
   "id": "c2e7f920",
   "metadata": {},
   "source": [
    "<hr style=\"border: 1px solid #fdb515;\" />\n",
    "\n",
    "**Question 3.9.** Based off of this, was Ella's sample size approximately the minimum sufficient sample, given her assumption that the sample SD is the same as the population SD? Assign `min_sufficient` to `True` if 9,975 was indeed approximately the minimum sufficient sample, and `False` if it wasn't. **(4 points)**\n"
   ]
  },
  {
   "cell_type": "code",
   "execution_count": 68,
   "id": "2e11547e",
   "metadata": {
    "ExecuteTime": {
     "end_time": "2018-03-20T04:35:49.134092Z",
     "start_time": "2018-03-20T04:35:49.126066Z"
    },
    "deletable": false,
    "manual_problem_id": "min_sufficient",
    "tags": []
   },
   "outputs": [
    {
     "data": {
      "text/plain": [
       "True"
      ]
     },
     "execution_count": 68,
     "metadata": {},
     "output_type": "execute_result"
    }
   ],
   "source": [
    "min_sufficient = True  # Vì 9975 đạt SD ≈ 0.005\n",
    "min_sufficient"
   ]
  },
  {
   "cell_type": "code",
   "execution_count": 69,
   "id": "28751dd0",
   "metadata": {
    "deletable": false,
    "editable": false
   },
   "outputs": [
    {
     "data": {
      "text/html": [
       "<p><strong><pre style='display: inline;'>q3_9</pre></strong> passed! 🙌</p>"
      ],
      "text/plain": [
       "q3_9 results: All test cases passed!"
      ]
     },
     "execution_count": 69,
     "metadata": {},
     "output_type": "execute_result"
    }
   ],
   "source": [
    "grader.check(\"q3_9\")"
   ]
  },
  {
   "attachments": {},
   "cell_type": "markdown",
   "id": "df4775c8",
   "metadata": {},
   "source": [
    "You're done with Homework 9!  \n",
    "\n",
    "**Important submission steps:** \n",
    "1. Run the tests and verify that they all pass.\n",
    "2. Choose **Save Notebook** from the **File** menu, then **run the final cell**. \n",
    "3. Click the link to download the zip file.\n",
    "4. Go to [Gradescope](https://www.gradescope.com/courses/835871) and submit the zip file to the corresponding assignment. The name of this assignment is \"HW 09 Autograder\". \n",
    "\n",
    "**It is your responsibility to make sure your work is saved before running the last cell.**"
   ]
  },
  {
   "attachments": {},
   "cell_type": "markdown",
   "id": "d969c722",
   "metadata": {},
   "source": [
    "## Pets of Data 8\n",
    "**Ball** made a song for you as congratulations for finishing homework 9. Here's a couple of the lyrics!\n",
    "\n",
    "**From the fort, to the night, to the den, to the king. Where's my crown?**\n",
    "\n",
    "<img src=\"./ball.jpg\" width=\"40%\" alt=\"Netherland dwarf bunny with a silver crown\"/>"
   ]
  },
  {
   "cell_type": "markdown",
   "id": "aa12df8e",
   "metadata": {},
   "source": [
    "<hr style=\"border: 5px solid #003262;\" />\n",
    "<hr style=\"border: 1px solid #fdb515;\" />\n",
    "\n",
    "## Written Work Submission\n",
    "\n",
    "Below, you will see two cells. Running the first cell will automatically generate a PDF of all questions that need to be manually graded, and running the second cell will automatically generate a zip with your autograded answers. You are responsible for submitting both the coding portion (the zip) and the written portion (the PDF) to their respective Gradescope portals. **Please save before exporting!**\n",
    "\n",
    "> **Important: You must correctly assign the pages of your PDF after you submit to the correct gradescope assignment. If your pages are not correctly assigned and/or not in the correct PDF format by the deadline, we reserve the right to award no points for your written work.**\n",
    "\n",
    "If there are issues with automatically generating the PDF in the first cell, you can try downloading the notebook as a PDF by clicking on `File -> Save and Export Notebook As... -> Webpdf`. If that doesn't work either, you can manually take screenshots of your answers to the manually graded questions and submit one single PDF of your screenshots. Either way, **you are responsible for ensuring your submision follows our requirements, we will NOT be granting regrade requests for submissions that don't follow instructions.**\n",
    "\n",
    "**You must submit the PDF generated via one of these methods, we will not accept screenshots or Word documents.**"
   ]
  },
  {
   "cell_type": "code",
   "execution_count": 70,
   "id": "61f6c78c",
   "metadata": {},
   "outputs": [
    {
     "ename": "UnicodeDecodeError",
     "evalue": "'charmap' codec can't decode byte 0x90 in position 5419: character maps to <undefined>",
     "output_type": "error",
     "traceback": [
      "\u001b[1;31m---------------------------------------------------------------------------\u001b[0m",
      "\u001b[1;31mUnicodeDecodeError\u001b[0m                        Traceback (most recent call last)",
      "Cell \u001b[1;32mIn[70], line 5\u001b[0m\n\u001b[0;32m      3\u001b[0m \u001b[38;5;28;01mfrom\u001b[39;00m\u001b[38;5;250m \u001b[39m\u001b[38;5;21;01mIPython\u001b[39;00m\u001b[38;5;21;01m.\u001b[39;00m\u001b[38;5;21;01mdisplay\u001b[39;00m\u001b[38;5;250m \u001b[39m\u001b[38;5;28;01mimport\u001b[39;00m display, HTML\n\u001b[0;32m      4\u001b[0m name \u001b[38;5;241m=\u001b[39m \u001b[38;5;124m'\u001b[39m\u001b[38;5;124mhw09\u001b[39m\u001b[38;5;124m'\u001b[39m\n\u001b[1;32m----> 5\u001b[0m export_notebook(\u001b[38;5;124mf\u001b[39m\u001b[38;5;124m\"\u001b[39m\u001b[38;5;132;01m{\u001b[39;00mname\u001b[38;5;132;01m}\u001b[39;00m\u001b[38;5;124m.ipynb\u001b[39m\u001b[38;5;124m\"\u001b[39m, filtering\u001b[38;5;241m=\u001b[39m\u001b[38;5;28;01mTrue\u001b[39;00m, pagebreaks\u001b[38;5;241m=\u001b[39m\u001b[38;5;28;01mTrue\u001b[39;00m)\n\u001b[0;32m      6\u001b[0m \u001b[38;5;28;01mif\u001b[39;00m(path\u001b[38;5;241m.\u001b[39mexists(\u001b[38;5;124mf\u001b[39m\u001b[38;5;124m'\u001b[39m\u001b[38;5;132;01m{\u001b[39;00mname\u001b[38;5;132;01m}\u001b[39;00m\u001b[38;5;124m.pdf\u001b[39m\u001b[38;5;124m'\u001b[39m)):\n\u001b[0;32m      7\u001b[0m     display(HTML(\u001b[38;5;124mf\u001b[39m\u001b[38;5;124m\"\u001b[39m\u001b[38;5;124mDownload your PDF <a href=\u001b[39m\u001b[38;5;124m'\u001b[39m\u001b[38;5;132;01m{\u001b[39;00mname\u001b[38;5;132;01m}\u001b[39;00m\u001b[38;5;124m.pdf\u001b[39m\u001b[38;5;124m'\u001b[39m\u001b[38;5;124m download>here</a>.\u001b[39m\u001b[38;5;124m\"\u001b[39m))\n",
      "File \u001b[1;32m~\\.conda\\envs\\datascience\\Lib\\site-packages\\otter\\export\\__init__.py:43\u001b[0m, in \u001b[0;36mexport_notebook\u001b[1;34m(nb_path, dest, exporter_type, **kwargs)\u001b[0m\n\u001b[0;32m     40\u001b[0m     pdf_name \u001b[38;5;241m=\u001b[39m os\u001b[38;5;241m.\u001b[39mpath\u001b[38;5;241m.\u001b[39msplitext(nb_path)[\u001b[38;5;241m0\u001b[39m] \u001b[38;5;241m+\u001b[39m \u001b[38;5;124m\"\u001b[39m\u001b[38;5;124m.pdf\u001b[39m\u001b[38;5;124m\"\u001b[39m\n\u001b[0;32m     42\u001b[0m Exporter \u001b[38;5;241m=\u001b[39m get_exporter(exporter_type\u001b[38;5;241m=\u001b[39mexporter_type)\n\u001b[1;32m---> 43\u001b[0m Exporter\u001b[38;5;241m.\u001b[39mconvert_notebook(nb_path, pdf_name, \u001b[38;5;241m*\u001b[39m\u001b[38;5;241m*\u001b[39mkwargs)\n\u001b[0;32m     45\u001b[0m \u001b[38;5;28;01mreturn\u001b[39;00m pdf_name\n",
      "File \u001b[1;32m~\\.conda\\envs\\datascience\\Lib\\site-packages\\otter\\export\\exporters\\via_latex.py:52\u001b[0m, in \u001b[0;36mPDFViaLatexExporter.convert_notebook\u001b[1;34m(cls, nb_path, dest, xecjk, **kwargs)\u001b[0m\n\u001b[0;32m     49\u001b[0m \u001b[38;5;28;01mif\u001b[39;00m xecjk:\n\u001b[0;32m     50\u001b[0m     options[\u001b[38;5;124m\"\u001b[39m\u001b[38;5;124mtemplate\u001b[39m\u001b[38;5;124m\"\u001b[39m] \u001b[38;5;241m=\u001b[39m \u001b[38;5;124m\"\u001b[39m\u001b[38;5;124mvia_latex_xecjk\u001b[39m\u001b[38;5;124m\"\u001b[39m\n\u001b[1;32m---> 52\u001b[0m nb \u001b[38;5;241m=\u001b[39m \u001b[38;5;28mcls\u001b[39m\u001b[38;5;241m.\u001b[39mload_notebook(\n\u001b[0;32m     53\u001b[0m     nb_path, filtering\u001b[38;5;241m=\u001b[39moptions[\u001b[38;5;124m\"\u001b[39m\u001b[38;5;124mfiltering\u001b[39m\u001b[38;5;124m\"\u001b[39m], pagebreaks\u001b[38;5;241m=\u001b[39moptions[\u001b[38;5;124m\"\u001b[39m\u001b[38;5;124mpagebreaks\u001b[39m\u001b[38;5;124m\"\u001b[39m]\n\u001b[0;32m     54\u001b[0m )\n\u001b[0;32m     56\u001b[0m nbconvert\u001b[38;5;241m.\u001b[39mTemplateExporter\u001b[38;5;241m.\u001b[39mextra_template_basedirs \u001b[38;5;241m=\u001b[39m [\u001b[38;5;28mstr\u001b[39m(TEMPLATE_DIR)]\n\u001b[0;32m     57\u001b[0m orig_template_name \u001b[38;5;241m=\u001b[39m nbconvert\u001b[38;5;241m.\u001b[39mTemplateExporter\u001b[38;5;241m.\u001b[39mtemplate_name\n",
      "File \u001b[1;32m~\\.conda\\envs\\datascience\\Lib\\site-packages\\otter\\export\\exporters\\base_exporter.py:72\u001b[0m, in \u001b[0;36mBaseExporter.load_notebook\u001b[1;34m(cls, nb_path, filtering, pagebreaks)\u001b[0m\n\u001b[0;32m     58\u001b[0m \u001b[38;5;250m\u001b[39m\u001b[38;5;124;03m\"\"\"\u001b[39;00m\n\u001b[0;32m     59\u001b[0m \u001b[38;5;124;03mLoads notebook at ``nb_path`` with nbformat and returns the parsed notebookly filtered\u001b[39;00m\n\u001b[0;32m     60\u001b[0m \u001b[38;5;124;03mand with pagebreak metadata hidden in HTML comments.\u001b[39;00m\n\u001b[1;32m   (...)\u001b[0m\n\u001b[0;32m     69\u001b[0m \u001b[38;5;124;03m    ``nbformat.NotebookNode``: the parsed and (optionally) filtered notebook\u001b[39;00m\n\u001b[0;32m     70\u001b[0m \u001b[38;5;124;03m\"\"\"\u001b[39;00m\n\u001b[0;32m     71\u001b[0m \u001b[38;5;28;01mwith\u001b[39;00m \u001b[38;5;28mopen\u001b[39m(nb_path) \u001b[38;5;28;01mas\u001b[39;00m f:\n\u001b[1;32m---> 72\u001b[0m     notebook \u001b[38;5;241m=\u001b[39m nbformat\u001b[38;5;241m.\u001b[39mread(f, as_version\u001b[38;5;241m=\u001b[39mNBFORMAT_VERSION)\n\u001b[0;32m     73\u001b[0m \u001b[38;5;28;01mif\u001b[39;00m filtering:\n\u001b[0;32m     74\u001b[0m     notebook \u001b[38;5;241m=\u001b[39m \u001b[38;5;28mcls\u001b[39m\u001b[38;5;241m.\u001b[39mfilter_cells(notebook, pagebreaks\u001b[38;5;241m=\u001b[39mpagebreaks)\n",
      "File \u001b[1;32m~\\.conda\\envs\\datascience\\Lib\\site-packages\\nbformat\\__init__.py:169\u001b[0m, in \u001b[0;36mread\u001b[1;34m(fp, as_version, capture_validation_error, **kwargs)\u001b[0m\n\u001b[0;32m    141\u001b[0m \u001b[38;5;250m\u001b[39m\u001b[38;5;124;03m\"\"\"Read a notebook from a file as a NotebookNode of the given version.\u001b[39;00m\n\u001b[0;32m    142\u001b[0m \n\u001b[0;32m    143\u001b[0m \u001b[38;5;124;03mThe string can contain a notebook of any version.\u001b[39;00m\n\u001b[1;32m   (...)\u001b[0m\n\u001b[0;32m    165\u001b[0m \u001b[38;5;124;03m    The notebook that was read.\u001b[39;00m\n\u001b[0;32m    166\u001b[0m \u001b[38;5;124;03m\"\"\"\u001b[39;00m\n\u001b[0;32m    168\u001b[0m \u001b[38;5;28;01mtry\u001b[39;00m:\n\u001b[1;32m--> 169\u001b[0m     buf \u001b[38;5;241m=\u001b[39m fp\u001b[38;5;241m.\u001b[39mread()\n\u001b[0;32m    170\u001b[0m \u001b[38;5;28;01mexcept\u001b[39;00m \u001b[38;5;167;01mAttributeError\u001b[39;00m:\n\u001b[0;32m    171\u001b[0m     \u001b[38;5;28;01mwith\u001b[39;00m \u001b[38;5;28mopen\u001b[39m(fp, encoding\u001b[38;5;241m=\u001b[39m\u001b[38;5;124m\"\u001b[39m\u001b[38;5;124mutf8\u001b[39m\u001b[38;5;124m\"\u001b[39m) \u001b[38;5;28;01mas\u001b[39;00m f:  \u001b[38;5;66;03m# noqa: PTH123\u001b[39;00m\n",
      "File \u001b[1;32m~\\.conda\\envs\\datascience\\Lib\\encodings\\cp1252.py:23\u001b[0m, in \u001b[0;36mIncrementalDecoder.decode\u001b[1;34m(self, input, final)\u001b[0m\n\u001b[0;32m     22\u001b[0m \u001b[38;5;28;01mdef\u001b[39;00m\u001b[38;5;250m \u001b[39m\u001b[38;5;21mdecode\u001b[39m(\u001b[38;5;28mself\u001b[39m, \u001b[38;5;28minput\u001b[39m, final\u001b[38;5;241m=\u001b[39m\u001b[38;5;28;01mFalse\u001b[39;00m):\n\u001b[1;32m---> 23\u001b[0m     \u001b[38;5;28;01mreturn\u001b[39;00m codecs\u001b[38;5;241m.\u001b[39mcharmap_decode(\u001b[38;5;28minput\u001b[39m,\u001b[38;5;28mself\u001b[39m\u001b[38;5;241m.\u001b[39merrors,decoding_table)[\u001b[38;5;241m0\u001b[39m]\n",
      "\u001b[1;31mUnicodeDecodeError\u001b[0m: 'charmap' codec can't decode byte 0x90 in position 5419: character maps to <undefined>"
     ]
    }
   ],
   "source": [
    "from otter.export import export_notebook\n",
    "from os import path\n",
    "from IPython.display import display, HTML\n",
    "name = 'hw09'\n",
    "export_notebook(f\"{name}.ipynb\", filtering=True, pagebreaks=True)\n",
    "if(path.exists(f'{name}.pdf')):\n",
    "    display(HTML(f\"Download your PDF <a href='{name}.pdf' download>here</a>.\"))\n",
    "else:\n",
    "    print(\"\\n Pdf generation failed, please try the other methods described above\")"
   ]
  },
  {
   "cell_type": "markdown",
   "id": "7cc452b5",
   "metadata": {
    "deletable": false,
    "editable": false
   },
   "source": [
    "## Submission\n",
    "\n",
    "Make sure you have run all cells in your notebook in order before running the cell below, so that all images/graphs appear in the output. The cell below will generate a zip file for you to submit. **Please save before exporting!**"
   ]
  },
  {
   "cell_type": "code",
   "execution_count": 73,
   "id": "752a08ea",
   "metadata": {
    "deletable": false,
    "editable": false
   },
   "outputs": [
    {
     "name": "stdout",
     "output_type": "stream",
     "text": [
      "Running your submission against local test cases...\n",
      "\n",
      "\n",
      "Your submission received the following results when run against available test cases:\n",
      "\n",
      "    q2_1 results: All test cases passed!\n",
      "\n",
      "    q2_3 results: All test cases passed!\n",
      "\n",
      "    q2_5 results: All test cases passed!\n",
      "\n",
      "    q3_1 results: All test cases passed!\n",
      "\n",
      "    q3_3 results: All test cases passed!\n",
      "\n",
      "    q3_4 results: All test cases passed!\n",
      "\n",
      "    q3_5 results: All test cases passed!\n",
      "\n",
      "    q3_6 results: All test cases passed!\n",
      "\n",
      "    q3_7 results: All test cases passed!\n",
      "\n",
      "    q3_8 results: All test cases passed!\n",
      "\n",
      "    q3_9 results: All test cases passed!\n"
     ]
    },
    {
     "data": {
      "text/html": [
       "\n",
       "                    <p>\n",
       "                        Your submission has been exported. Click\n",
       "                        <a href=\"hw09_2025_05_12T22_42_17_518599.zip\" download=\"hw09_2025_05_12T22_42_17_518599.zip\" target=\"_blank\">here</a> to download\n",
       "                        the zip file.\n",
       "                    </p>\n",
       "                "
      ],
      "text/plain": [
       "<IPython.core.display.HTML object>"
      ]
     },
     "metadata": {},
     "output_type": "display_data"
    }
   ],
   "source": [
    "# Save your notebook first, then run this cell to export your submission.\n",
    "grader.export(pdf=False, run_tests=True)"
   ]
  },
  {
   "cell_type": "markdown",
   "id": "5c43296c",
   "metadata": {},
   "source": [
    " "
   ]
  },
  {
   "cell_type": "code",
   "execution_count": null,
   "id": "16202174-8d5b-4053-aa1d-a2a5db83bfea",
   "metadata": {},
   "outputs": [],
   "source": []
  }
 ],
 "metadata": {
  "kernelspec": {
   "display_name": "Python 3 (ipykernel)",
   "language": "python",
   "name": "python3"
  },
  "language_info": {
   "codemirror_mode": {
    "name": "ipython",
    "version": 3
   },
   "file_extension": ".py",
   "mimetype": "text/x-python",
   "name": "python",
   "nbconvert_exporter": "python",
   "pygments_lexer": "ipython3",
   "version": "3.11.11"
  },
  "otter": {
   "OK_FORMAT": true,
   "tests": {
    "q2_1": {
     "name": "q2_1",
     "points": [
      0
     ],
     "suites": [
      {
       "cases": [
        {
         "code": ">>> 1100 <= smallest <= 1150\nTrue",
         "hidden": false,
         "locked": false
        }
       ],
       "scored": true,
       "setup": "",
       "teardown": "",
       "type": "doctest"
      }
     ]
    },
    "q2_3": {
     "name": "q2_3",
     "points": [
      0
     ],
     "suites": [
      {
       "cases": [
        {
         "code": ">>> 700 <= smallest_num <= 800\nTrue",
         "hidden": false,
         "locked": false
        }
       ],
       "scored": true,
       "setup": "",
       "teardown": "",
       "type": "doctest"
      }
     ]
    },
    "q2_5": {
     "name": "q2_5",
     "points": [
      0,
      0
     ],
     "suites": [
      {
       "cases": [
        {
         "code": ">>> type(option) == int\nTrue",
         "hidden": false,
         "locked": false
        },
        {
         "code": ">>> 1 <= option <= 4\nTrue",
         "hidden": false,
         "locked": false
        }
       ],
       "scored": true,
       "setup": "",
       "teardown": "",
       "type": "doctest"
      }
     ]
    },
    "q3_1": {
     "name": "q3_1",
     "points": [
      1,
      5
     ],
     "suites": [
      {
       "cases": [
        {
         "code": ">>> len(resample_yes_proportions) == 10000\nTrue",
         "hidden": false,
         "locked": false
        },
        {
         "code": ">>> abs(np.mean(resample_yes_proportions) - .525) < .025 and np.std(resample_yes_proportions) < .08\nTrue",
         "hidden": false,
         "locked": false
        }
       ],
       "scored": true,
       "setup": "",
       "teardown": "",
       "type": "doctest"
      }
     ]
    },
    "q3_3": {
     "name": "q3_3",
     "points": [
      0
     ],
     "suites": [
      {
       "cases": [
        {
         "code": ">>> approximate_sd < 0.025\nTrue",
         "hidden": false,
         "locked": false
        }
       ],
       "scored": true,
       "setup": "",
       "teardown": "",
       "type": "doctest"
      }
     ]
    },
    "q3_4": {
     "name": "q3_4",
     "points": [
      0
     ],
     "suites": [
      {
       "cases": [
        {
         "code": ">>> exact_sd < 0.05\nTrue",
         "hidden": false,
         "locked": false
        }
       ],
       "scored": true,
       "setup": "",
       "teardown": "",
       "type": "doctest"
      }
     ]
    },
    "q3_5": {
     "name": "q3_5",
     "points": [
      0
     ],
     "suites": [
      {
       "cases": [
        {
         "code": ">>> 0.4 <= lower_limit < upper_limit <= 0.7\nTrue",
         "hidden": false,
         "locked": false
        }
       ],
       "scored": true,
       "setup": "",
       "teardown": "",
       "type": "doctest"
      }
     ]
    },
    "q3_6": {
     "name": "q3_6",
     "points": [
      0
     ],
     "suites": [
      {
       "cases": [
        {
         "code": ">>> -3 <= ella_sample_mean_sd <= 3\nTrue",
         "hidden": false,
         "locked": false
        }
       ],
       "scored": true,
       "setup": "",
       "teardown": "",
       "type": "doctest"
      }
     ]
    },
    "q3_7": {
     "name": "q3_7",
     "points": [
      1
     ],
     "suites": [
      {
       "cases": [
        {
         "code": ">>> smaller_sample_size < ella_sample_size\nTrue",
         "hidden": false,
         "locked": false
        }
       ],
       "scored": true,
       "setup": "",
       "teardown": "",
       "type": "doctest"
      }
     ]
    },
    "q3_8": {
     "name": "q3_8",
     "points": [
      1
     ],
     "suites": [
      {
       "cases": [
        {
         "code": ">>> larger_sample_size > ella_sample_size\nTrue",
         "hidden": false,
         "locked": false
        }
       ],
       "scored": true,
       "setup": "",
       "teardown": "",
       "type": "doctest"
      }
     ]
    },
    "q3_9": {
     "name": "q3_9",
     "points": [
      0
     ],
     "suites": [
      {
       "cases": [
        {
         "code": ">>> min_sufficient or not min_sufficient \nTrue",
         "hidden": false,
         "locked": false
        }
       ],
       "scored": true,
       "setup": "",
       "teardown": "",
       "type": "doctest"
      }
     ]
    }
   }
  }
 },
 "nbformat": 4,
 "nbformat_minor": 5
}
